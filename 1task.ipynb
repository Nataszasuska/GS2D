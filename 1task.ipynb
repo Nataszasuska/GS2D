{
  "nbformat": 4,
  "nbformat_minor": 0,
  "metadata": {
    "colab": {
      "provenance": [],
      "authorship_tag": "ABX9TyPjL+BFlOqKD/uOjOY2muDH",
      "include_colab_link": true
    },
    "kernelspec": {
      "name": "python3",
      "display_name": "Python 3"
    },
    "language_info": {
      "name": "python"
    }
  },
  "cells": [
    {
      "cell_type": "markdown",
      "metadata": {
        "id": "view-in-github",
        "colab_type": "text"
      },
      "source": [
        "<a href=\"https://colab.research.google.com/github/Nataszasuska/GS2D/blob/main/1task.ipynb\" target=\"_parent\"><img src=\"https://colab.research.google.com/assets/colab-badge.svg\" alt=\"Open In Colab\"/></a>"
      ]
    },
    {
      "cell_type": "markdown",
      "source": [
        "#section1"
      ],
      "metadata": {
        "id": "P3m_fcr8L1ni"
      }
    },
    {
      "cell_type": "code",
      "source": [
        "a=1"
      ],
      "metadata": {
        "id": "3VkJmeE5L7ta"
      },
      "execution_count": null,
      "outputs": []
    },
    {
      "cell_type": "code",
      "source": [
        "b=2"
      ],
      "metadata": {
        "id": "RCTZkfpfL79K"
      },
      "execution_count": null,
      "outputs": []
    },
    {
      "cell_type": "code",
      "source": [
        "a+b"
      ],
      "metadata": {
        "id": "wAvcdpJYL8Ea"
      },
      "execution_count": null,
      "outputs": []
    },
    {
      "cell_type": "markdown",
      "source": [
        "#section2"
      ],
      "metadata": {
        "id": "6NZrvNysM_96"
      }
    },
    {
      "cell_type": "markdown",
      "source": [
        "**Hello world**"
      ],
      "metadata": {
        "id": "ABIxERUkNMj5"
      }
    },
    {
      "cell_type": "markdown",
      "source": [
        "*Hello world*"
      ],
      "metadata": {
        "id": "t4X-V22GNQ3x"
      }
    },
    {
      "cell_type": "code",
      "source": [
        "#helloworld"
      ],
      "metadata": {
        "id": "KLBwHwBYNZow"
      },
      "execution_count": null,
      "outputs": []
    }
  ]
}